{
  "nbformat": 4,
  "nbformat_minor": 0,
  "metadata": {
    "colab": {
      "private_outputs": true,
      "provenance": []
    },
    "kernelspec": {
      "name": "ir",
      "display_name": "R"
    },
    "language_info": {
      "name": "R"
    }
  },
  "cells": [
    {
      "cell_type": "code",
      "execution_count": null,
      "metadata": {
        "id": "HEKxoZBCo01q"
      },
      "outputs": [],
      "source": [
        "install.packages(\"pacman\")\n",
        "library(pacman)"
      ]
    },
    {
      "cell_type": "code",
      "source": [
        "pacman::p_load(dplyr, ggplot2, tidyr, readxl, plotly, tidyverse, ggalluvial)"
      ],
      "metadata": {
        "id": "PAjwoy57o_4T"
      },
      "execution_count": null,
      "outputs": []
    },
    {
      "cell_type": "code",
      "source": [
        "eva <- read.csv(\"EVA.csv\")\n",
        "head(eva)"
      ],
      "metadata": {
        "id": "76jjsmG_pHE0"
      },
      "execution_count": null,
      "outputs": []
    },
    {
      "cell_type": "code",
      "source": [
        "eva <- eva %>%\n",
        "  filter(DEPARTAMENTO == \"NORTE DE SANTANDER\") %>%\n",
        "  select(CÓD..MUN., MUNICIPIO, CULTIVO, Producción..t., Rendimiento..t.ha., GRUPO..DE.CULTIVO, AÑO) %>%\n",
        "  rename(codmpio = CÓD..MUN., mpio = MUNICIPIO, cultivo = CULTIVO, prod = Producción..t., grupo = GRUPO..DE.CULTIVO,\n",
        "  rendimiento = Rendimiento..t.ha., periodo = AÑO)\n",
        "\n",
        "head(eva)"
      ],
      "metadata": {
        "id": "LoYQCWcRpVS6"
      },
      "execution_count": null,
      "outputs": []
    },
    {
      "cell_type": "code",
      "source": [
        "# Calcular producción promedio por municipio y cultivo\n",
        "eva_mpio <- eva %>%\n",
        "  group_by(mpio) %>%\n",
        "  summarise(producion_mean = mean(prod, na.rm = TRUE),\n",
        "            rendimiento_mean = mean(rendimiento, na.rm = TRUE)) %>%\n",
        "  ungroup()\n",
        "\n",
        "head(eva_mpio)"
      ],
      "metadata": {
        "id": "dT_VUY7RrmZq"
      },
      "execution_count": null,
      "outputs": []
    },
    {
      "cell_type": "code",
      "source": [
        "mean_prod <- mean(eva_mpio$producion_mean, na.rm = TRUE)\n",
        "mean_rend <- mean(eva_mpio$rendimiento_mean, na.rm = TRUE)\n",
        "\n",
        "ggplot(eva_mpio, aes(x = producion_mean, y = rendimiento_mean)) +\n",
        "  geom_point(color = \"steelblue\", size = 2) +\n",
        "  geom_text(aes(label = mpio), vjust = -0.5, size = 3) +  # Etiquetas con nombres de municipios\n",
        "  geom_hline(yintercept = mean_rend, linetype = \"dashed\", color = \"black\") +\n",
        "  geom_vline(xintercept = mean_prod, linetype = \"dashed\", color = \"black\") +\n",
        "  labs(\n",
        "    title = \"Distribución producción vs. rendimiento promedio\",\n",
        "    x = \"Producción (mean)\",\n",
        "    y = \"Rendimiento (mean)\"\n",
        "  ) +\n",
        "  theme_bw()"
      ],
      "metadata": {
        "id": "2ECoynnWsvtJ"
      },
      "execution_count": null,
      "outputs": []
    },
    {
      "cell_type": "code",
      "source": [
        "# Calcular producción promedio por municipio y cultivo\n",
        "eva_cultivo <- eva %>%\n",
        "  group_by(cultivo) %>%\n",
        "  summarise(producion_mean = mean(prod, na.rm = TRUE),\n",
        "            rendimiento_mean = mean(rendimiento, na.rm = TRUE)) %>%\n",
        "  ungroup()\n",
        "\n",
        "head(eva_mpio)"
      ],
      "metadata": {
        "id": "bQ7OjQ0x1pas"
      },
      "execution_count": null,
      "outputs": []
    },
    {
      "cell_type": "code",
      "source": [
        "mean_prod <- mean(eva_mpio$producion_mean, na.rm = TRUE)\n",
        "mean_rend <- mean(eva_mpio$rendimiento_mean, na.rm = TRUE)\n",
        "\n",
        "ggplot(eva_cultivo, aes(x = producion_mean, y = rendimiento_mean)) +\n",
        "  geom_point(color = \"steelblue\", size = 2) +\n",
        "  geom_text(aes(label = cultivo), vjust = -0.5, size = 3) +  # Etiquetas con nombres de municipios\n",
        "  geom_hline(yintercept = mean_rend, linetype = \"dashed\", color = \"black\") +\n",
        "  geom_vline(xintercept = mean_prod, linetype = \"dashed\", color = \"black\") +\n",
        "  labs(\n",
        "    title = \"Distribución producción vs. rendimiento promedio\",\n",
        "    x = \"Producción (mean)\",\n",
        "    y = \"Rendimiento (mean)\"\n",
        "  ) +\n",
        "  theme_bw()"
      ],
      "metadata": {
        "id": "jxKvHJ-Cx_5k"
      },
      "execution_count": null,
      "outputs": []
    },
    {
      "cell_type": "code",
      "source": [
        "# Agrupar datos por Municipio y Cultivo - Producción\n",
        "prod_data <- eva %>%\n",
        "  group_by(mpio, cultivo) %>%\n",
        "  summarise(Produccion = sum(prod, na.rm = TRUE)) %>%\n",
        "  filter(Produccion > 0)\n",
        "\n",
        "head(prod_data)"
      ],
      "metadata": {
        "id": "WjXPsyEGzwLr"
      },
      "execution_count": null,
      "outputs": []
    },
    {
      "cell_type": "code",
      "source": [
        "ggplot(prod_data,\n",
        "       aes(axis1 = mpio, axis2 = cultivo, y = Produccion)) +\n",
        "  geom_alluvium(aes(fill = mpio), width = 1/12) +\n",
        "  geom_stratum(width = 1/12, fill = \"gray\", color = \"black\") +\n",
        "  geom_text(stat = \"stratum\", aes(label = after_stat(stratum)), size = 3) +\n",
        "  scale_x_discrete(limits = c(\"Municipio\", \"Cultivo\"), expand = c(.05, .05)) +\n",
        "  ggtitle(\"Flujo de Producción entre Municipios y Cultivos en Norte de Santander\") +\n",
        "  theme_minimal()"
      ],
      "metadata": {
        "id": "hxeztkxc0lCV"
      },
      "execution_count": null,
      "outputs": []
    },
    {
      "cell_type": "code",
      "source": [
        "ggplot(prod_data,\n",
        "       aes(axis1 = mpio, axis2 = cultivo, y = Produccion)) +\n",
        "  geom_alluvium(width = 1/12, fill = \"lightblue\", color = \"gray\") +  # Color uniforme\n",
        "  geom_stratum(width = 1/12, fill = \"gray\", color = \"black\") +\n",
        "  geom_text(stat = \"stratum\", aes(label = after_stat(stratum)), size = 3) +\n",
        "  scale_x_discrete(limits = c(\"Municipio\", \"Cultivo\"), expand = c(.05, .05)) +\n",
        "  ggtitle(\"Flujo de Producción entre Municipios y Cultivos en Norte de Santander\") +\n",
        "  theme_minimal()"
      ],
      "metadata": {
        "id": "qJGyS6I85Pwx"
      },
      "execution_count": null,
      "outputs": []
    }
  ]
}